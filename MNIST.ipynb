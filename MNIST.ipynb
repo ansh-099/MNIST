{
 "cells": [
  {
   "cell_type": "code",
   "execution_count": 6,
   "metadata": {},
   "outputs": [],
   "source": [
    "import numpy as np\n",
    "import matplotlib.pyplot as plt\n",
    "import pandas as pd"
   ]
  },
  {
   "cell_type": "code",
   "execution_count": 7,
   "metadata": {},
   "outputs": [
    {
     "data": {
      "text/plain": [
       "5.196152422706632"
      ]
     },
     "execution_count": 7,
     "metadata": {},
     "output_type": "execute_result"
    }
   ],
   "source": [
    "def euclidean(p1, p2):\n",
    "    return np.sqrt(np.sum((p1-p2)**2))\n",
    "\n",
    "euclidean(np.array([1,2,3]), np.array([4,5,6]))"
   ]
  },
  {
   "cell_type": "code",
   "execution_count": 8,
   "metadata": {},
   "outputs": [],
   "source": [
    "# K-nearest neighbors\n",
    "def knn(x_train , y_train , point , k=5):\n",
    "    distances = []\n",
    "    for i in range(x_train.shape[0]):\n",
    "        x_temp = x_train[i]\n",
    "        y_temp = y_train[i]\n",
    "        distances.append((euclidean(point , x_temp),y_temp))\n",
    "\n",
    "    sorted_distances = sorted(distances, key = lambda x: x[0])\n",
    "    k_nearest = np.array(sorted_distances[:k])\n",
    "    freq = np.unique(k_nearest[:,1] ,return_counts=True)\n",
    "    labels, counts = freq\n",
    "    index = np.argmax(counts)\n",
    "#     print(freq,labels , counts, sep = '\\n\\n')\n",
    "#     print(freq)\n",
    "    ans = labels[index]\n",
    "    arr = np.array([[1,2],[2,3]])\n",
    "\n",
    " \n",
    "  \n",
    "    return ans"
   ]
  },
  {
   "cell_type": "code",
   "execution_count": 5,
   "metadata": {},
   "outputs": [],
   "source": [
    "# Acc\n",
    "def accuracy(X_test , Y_test ,X_train, Y_train,k=5):\n",
    "    predictions = []\n",
    "    for point in X_test:\n",
    "        ans = knn(X_train,Y_train,point)\n",
    "        predictions.append(ans)\n",
    "    predictions = np.array(predictions)\n",
    "    acc = (predictions == Y_test).sum() / Y_test.shape[0]\n",
    "    return acc\n",
    "\n",
    "\n",
    "\n"
   ]
  },
  {
   "cell_type": "code",
   "execution_count": 31,
   "metadata": {},
   "outputs": [
    {
     "name": "stdout",
     "output_type": "stream",
     "text": [
      "   label  pixel0  pixel1  pixel2  pixel3  pixel4  pixel5  pixel6  pixel7  \\\n",
      "0      1       0       0       0       0       0       0       0       0   \n",
      "1      0       0       0       0       0       0       0       0       0   \n",
      "2      1       0       0       0       0       0       0       0       0   \n",
      "3      4       0       0       0       0       0       0       0       0   \n",
      "4      0       0       0       0       0       0       0       0       0   \n",
      "5      0       0       0       0       0       0       0       0       0   \n",
      "6      7       0       0       0       0       0       0       0       0   \n",
      "7      3       0       0       0       0       0       0       0       0   \n",
      "8      5       0       0       0       0       0       0       0       0   \n",
      "9      3       0       0       0       0       0       0       0       0   \n",
      "\n",
      "   pixel8    ...     pixel774  pixel775  pixel776  pixel777  pixel778  \\\n",
      "0       0    ...            0         0         0         0         0   \n",
      "1       0    ...            0         0         0         0         0   \n",
      "2       0    ...            0         0         0         0         0   \n",
      "3       0    ...            0         0         0         0         0   \n",
      "4       0    ...            0         0         0         0         0   \n",
      "5       0    ...            0         0         0         0         0   \n",
      "6       0    ...            0         0         0         0         0   \n",
      "7       0    ...            0         0         0         0         0   \n",
      "8       0    ...            0         0         0         0         0   \n",
      "9       0    ...            0         0         0         0         0   \n",
      "\n",
      "   pixel779  pixel780  pixel781  pixel782  pixel783  \n",
      "0         0         0         0         0         0  \n",
      "1         0         0         0         0         0  \n",
      "2         0         0         0         0         0  \n",
      "3         0         0         0         0         0  \n",
      "4         0         0         0         0         0  \n",
      "5         0         0         0         0         0  \n",
      "6         0         0         0         0         0  \n",
      "7         0         0         0         0         0  \n",
      "8         0         0         0         0         0  \n",
      "9         0         0         0         0         0  \n",
      "\n",
      "[10 rows x 785 columns]\n"
     ]
    }
   ],
   "source": [
    "dataset = pd.read_csv(\"../mnist_data/train.csv\")\n",
    "print(dataset[:10])"
   ]
  },
  {
   "cell_type": "code",
   "execution_count": 32,
   "metadata": {},
   "outputs": [
    {
     "name": "stdout",
     "output_type": "stream",
     "text": [
      "[[0.53154561 0.83806798 0.93524949 0.68157836 0.19844916 0.54263898\n",
      "  0.09017344 0.95840052 0.99141625 0.02308805]\n",
      " [0.86890886 0.1620872  0.45028654 0.59301143 0.92958828 0.83217345\n",
      "  0.11677324 0.58616158 0.4700613  0.63328782]\n",
      " [0.24167349 0.94568623 0.88127325 0.9325017  0.69128028 0.67154734\n",
      "  0.5360965  0.36475031 0.26994247 0.808361  ]\n",
      " [0.69657332 0.01207882 0.18835848 0.55714847 0.72282136 0.42897859\n",
      "  0.51297127 0.45773925 0.84007032 0.20558331]\n",
      " [0.04451897 0.50165809 0.37837501 0.0411924  0.42763351 0.43779125\n",
      "  0.84457186 0.39051956 0.12886494 0.0844614 ]\n",
      " [0.11672398 0.9182787  0.72007568 0.55179953 0.91816231 0.88755037\n",
      "  0.86465948 0.44751471 0.1972599  0.96965738]\n",
      " [0.36525182 0.08615567 0.50131143 0.35101791 0.71745694 0.77442864\n",
      "  0.05921941 0.72933357 0.74036592 0.40517144]\n",
      " [0.73215045 0.72868626 0.42925186 0.88542049 0.10934284 0.16726067\n",
      "  0.59490626 0.88808652 0.87383704 0.29984244]\n",
      " [0.46326626 0.15386763 0.06569603 0.82931389 0.33895557 0.47856163\n",
      "  0.02036703 0.74216284 0.81704728 0.83678543]\n",
      " [0.74214973 0.51905579 0.66184856 0.2699218  0.16165625 0.91167897\n",
      "  0.96406277 0.71053711 0.64339682 0.5380158 ]]\n"
     ]
    }
   ],
   "source": [
    "r = np.random.random((10,10))\n",
    "print(r)"
   ]
  },
  {
   "cell_type": "code",
   "execution_count": 33,
   "metadata": {},
   "outputs": [
    {
     "data": {
      "text/plain": [
       "<matplotlib.image.AxesImage at 0x12c98c358>"
      ]
     },
     "execution_count": 33,
     "metadata": {},
     "output_type": "execute_result"
    },
    {
     "data": {
      "image/png": "[encoded data removed]",
      "text/plain": [
       "<Figure size 432x288 with 1 Axes>"
      ]
     },
     "metadata": {
      "needs_background": "light"
     },
     "output_type": "display_data"
    }
   ],
   "source": [
    "plt.figure()\n",
    "plt.imshow(r ,cmap='gray')"
   ]
  },
  {
   "cell_type": "code",
   "execution_count": 36,
   "metadata": {},
   "outputs": [
    {
     "name": "stdout",
     "output_type": "stream",
     "text": [
      "[[1 0 0 ... 0 0 0]\n",
      " [0 0 0 ... 0 0 0]\n",
      " [1 0 0 ... 0 0 0]\n",
      " ...\n",
      " [8 0 0 ... 0 0 0]\n",
      " [7 0 0 ... 0 0 0]\n",
      " [9 0 0 ... 0 0 0]]\n"
     ]
    },
    {
     "data": {
      "text/plain": [
       "(5000, 785)"
      ]
     },
     "execution_count": 36,
     "metadata": {},
     "output_type": "execute_result"
    }
   ],
   "source": [
    "dataset = dataset.values[:5000] # taken first 5000 only because otherwise it would take much time\n",
    "print(dataset)\n",
    "dataset.shape"
   ]
  },
  {
   "cell_type": "code",
   "execution_count": 37,
   "metadata": {},
   "outputs": [],
   "source": [
    "X, Y = dataset[:,1:],dataset[:,0]"
   ]
  },
  {
   "cell_type": "code",
   "execution_count": 41,
   "metadata": {},
   "outputs": [
    {
     "data": {
      "text/plain": [
       "<matplotlib.image.AxesImage at 0x11a1d71d0>"
      ]
     },
     "execution_count": 41,
     "metadata": {},
     "output_type": "execute_result"
    },
    {
     "data": {
      "image/png": "[encoded data removed]",
      "text/plain": [
       "<Figure size 432x288 with 1 Axes>"
      ]
     },
     "metadata": {
      "needs_background": "light"
     },
     "output_type": "display_data"
    }
   ],
   "source": [
    "img = np.resize(X[1],(28,28)) #just to see the data\n",
    "plt.figure()\n",
    "plt.imshow(img, cmap='gray')"
   ]
  },
  {
   "cell_type": "code",
   "execution_count": 42,
   "metadata": {},
   "outputs": [],
   "source": [
    "split = int(X.shape[0]*0.8)\n",
    "X_train , Y_train , X_test, Y_test = X[:split], Y[:split], X[split:], Y[split:]"
   ]
  },
  {
   "cell_type": "code",
   "execution_count": 45,
   "metadata": {},
   "outputs": [
    {
     "data": {
      "text/plain": [
       "0.928"
      ]
     },
     "execution_count": 45,
     "metadata": {},
     "output_type": "execute_result"
    }
   ],
   "source": [
    "accuracy(X_test, Y_test, X_train, Y_train, k=5)"
   ]
  },
  {
   "cell_type": "code",
   "execution_count": null,
   "metadata": {},
   "outputs": [],
   "source": []
  }
 ],
 "metadata": {
  "kernelspec": {
   "display_name": "Python 3",
   "language": "python",
   "name": "python3"
  },
  "language_info": {
   "codemirror_mode": {
    "name": "ipython",
    "version": 3
   },
   "file_extension": ".py",
   "mimetype": "text/x-python",
   "name": "python",
   "nbconvert_exporter": "python",
   "pygments_lexer": "ipython3",
   "version": "3.7.0"
  }
 },
 "nbformat": 4,
 "nbformat_minor": 2
}
