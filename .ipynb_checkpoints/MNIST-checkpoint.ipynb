{
 "cells": [
  {
   "cell_type": "code",
   "execution_count": 30,
   "metadata": {},
   "outputs": [],
   "source": [
    "import numpy as np\n",
    "import matplotlib.pyplot as plt\n",
    "import pandas as pd"
   ]
  },
  {
   "cell_type": "code",
   "execution_count": 31,
   "metadata": {},
   "outputs": [
    {
     "data": {
      "text/plain": [
       "5.196152422706632"
      ]
     },
     "execution_count": 31,
     "metadata": {},
     "output_type": "execute_result"
    }
   ],
   "source": [
    "def euclidean(p1, p2):\n",
    "    return np.sqrt(np.sum((p1-p2)**2))\n",
    "\n",
    "euclidean(np.array([1,2,3]), np.array([4,5,6]))"
   ]
  },
  {
   "cell_type": "code",
   "execution_count": 32,
   "metadata": {},
   "outputs": [],
   "source": [
    "# K-nearest neighbors\n",
    "def knn(x_train , y_train , point , k=5):\n",
    "    distances = []\n",
    "    for i in range(x_train.shape[0]):\n",
    "        x_temp = x_train[i]\n",
    "        y_temp = y_train[i]\n",
    "        distances.append((euclidean(point , x_temp),y_temp))\n",
    "\n",
    "    sorted_distances = sorted(distances, key = lambda x: x[0])\n",
    "    k_nearest = np.array(sorted_distances[:k])\n",
    "    freq = np.unique(k_nearest[:,1] ,return_counts=True)\n",
    "    labels, counts = freq\n",
    "    index = np.argmax(counts)\n",
    "#     print(freq,labels , counts, sep = '\\n\\n')\n",
    "#     print(freq)\n",
    "    ans = labels[index]\n",
    "    arr = np.array([[1,2],[2,3]])\n",
    "\n",
    " \n",
    "  \n",
    "    return ans"
   ]
  },
  {
   "cell_type": "code",
   "execution_count": 33,
   "metadata": {},
   "outputs": [],
   "source": [
    "# Acc\n",
    "def accuracy(X_test , Y_test ,X_train, Y_train,k=5):\n",
    "    predictions = []\n",
    "    for point in X_test:\n",
    "        ans = knn(X_train,Y_train,point)\n",
    "        predictions.append(ans)\n",
    "    predictions = np.array(predictions)\n",
    "    acc = (predictions == Y_test).sum() / Y_test.shape[0]\n",
    "    return acc\n",
    "\n",
    "\n",
    "\n"
   ]
  },
  {
   "cell_type": "code",
   "execution_count": 34,
   "metadata": {},
   "outputs": [
    {
     "name": "stdout",
     "output_type": "stream",
     "text": [
      "   label  pixel0  pixel1  pixel2  pixel3  pixel4  pixel5  pixel6  pixel7  \\\n",
      "0      1       0       0       0       0       0       0       0       0   \n",
      "1      0       0       0       0       0       0       0       0       0   \n",
      "2      1       0       0       0       0       0       0       0       0   \n",
      "3      4       0       0       0       0       0       0       0       0   \n",
      "4      0       0       0       0       0       0       0       0       0   \n",
      "5      0       0       0       0       0       0       0       0       0   \n",
      "6      7       0       0       0       0       0       0       0       0   \n",
      "7      3       0       0       0       0       0       0       0       0   \n",
      "8      5       0       0       0       0       0       0       0       0   \n",
      "9      3       0       0       0       0       0       0       0       0   \n",
      "\n",
      "   pixel8    ...     pixel774  pixel775  pixel776  pixel777  pixel778  \\\n",
      "0       0    ...            0         0         0         0         0   \n",
      "1       0    ...            0         0         0         0         0   \n",
      "2       0    ...            0         0         0         0         0   \n",
      "3       0    ...            0         0         0         0         0   \n",
      "4       0    ...            0         0         0         0         0   \n",
      "5       0    ...            0         0         0         0         0   \n",
      "6       0    ...            0         0         0         0         0   \n",
      "7       0    ...            0         0         0         0         0   \n",
      "8       0    ...            0         0         0         0         0   \n",
      "9       0    ...            0         0         0         0         0   \n",
      "\n",
      "   pixel779  pixel780  pixel781  pixel782  pixel783  \n",
      "0         0         0         0         0         0  \n",
      "1         0         0         0         0         0  \n",
      "2         0         0         0         0         0  \n",
      "3         0         0         0         0         0  \n",
      "4         0         0         0         0         0  \n",
      "5         0         0         0         0         0  \n",
      "6         0         0         0         0         0  \n",
      "7         0         0         0         0         0  \n",
      "8         0         0         0         0         0  \n",
      "9         0         0         0         0         0  \n",
      "\n",
      "[10 rows x 785 columns]\n"
     ]
    }
   ],
   "source": [
    "dataset = pd.read_csv(\"mnist_data/train.csv\")\n",
    "print(dataset[:10])"
   ]
  },
  {
   "cell_type": "code",
   "execution_count": 50,
   "metadata": {},
   "outputs": [
    {
     "name": "stdout",
     "output_type": "stream",
     "text": [
      "[[0.88432244 0.06653779 0.80397265 0.13188367 0.87096944 0.31414317\n",
      "  0.68183676 0.58645596 0.42751377 0.58748747]\n",
      " [0.66587745 0.77566648 0.59907911 0.90948131 0.86538472 0.8456491\n",
      "  0.79519296 0.47342267 0.38737912 0.60346227]\n",
      " [0.0430298  0.82020773 0.92240237 0.89203483 0.5176353  0.41366231\n",
      "  0.10854935 0.81104419 0.75845957 0.84591776]\n",
      " [0.06247852 0.18538681 0.35916686 0.09845281 0.59584184 0.05881986\n",
      "  0.78134517 0.37638421 0.9535239  0.07275543]\n",
      " [0.91639632 0.57665672 0.00714782 0.73524055 0.33884517 0.80769738\n",
      "  0.9256649  0.43950803 0.0874183  0.91069169]\n",
      " [0.12383559 0.74515842 0.58996728 0.77538365 0.40199057 0.64294752\n",
      "  0.70733798 0.08424434 0.22853607 0.71904864]\n",
      " [0.3732057  0.50854161 0.50997565 0.01496645 0.98770733 0.80060724\n",
      "  0.68423453 0.56461951 0.46121414 0.96812521]\n",
      " [0.61161977 0.8543113  0.15156303 0.6252128  0.5329754  0.03180006\n",
      "  0.71585838 0.4064351  0.33755596 0.08383403]\n",
      " [0.47796724 0.09359998 0.22796797 0.21343574 0.42898418 0.74974718\n",
      "  0.40636201 0.45350509 0.46562067 0.73340268]\n",
      " [0.03642087 0.40463504 0.07558978 0.40752089 0.8414121  0.78501068\n",
      "  0.12926869 0.29589609 0.66821924 0.37759263]]\n"
     ]
    }
   ],
   "source": [
    "r = np.random.random((10,10))\n",
    "print(r)\n",
    "r[0][0] =0"
   ]
  },
  {
   "cell_type": "code",
   "execution_count": 51,
   "metadata": {},
   "outputs": [
    {
     "data": {
      "text/plain": [
       "<matplotlib.image.AxesImage at 0x11d03ee48>"
      ]
     },
     "execution_count": 51,
     "metadata": {},
     "output_type": "execute_result"
    },
    {
     "data": {
      "image/png": "[encoded data removed]",
      "text/plain": [
       "<Figure size 432x288 with 1 Axes>"
      ]
     },
     "metadata": {
      "needs_background": "light"
     },
     "output_type": "display_data"
    }
   ],
   "source": [
    "plt.figure()\n",
    "plt.imshow(r ,cmap='gray')"
   ]
  },
  {
   "cell_type": "code",
   "execution_count": 37,
   "metadata": {},
   "outputs": [
    {
     "name": "stdout",
     "output_type": "stream",
     "text": [
      "[[1 0 0 ... 0 0 0]\n",
      " [0 0 0 ... 0 0 0]\n",
      " [1 0 0 ... 0 0 0]\n",
      " ...\n",
      " [8 0 0 ... 0 0 0]\n",
      " [7 0 0 ... 0 0 0]\n",
      " [9 0 0 ... 0 0 0]]\n"
     ]
    },
    {
     "data": {
      "text/plain": [
       "(5000, 785)"
      ]
     },
     "execution_count": 37,
     "metadata": {},
     "output_type": "execute_result"
    }
   ],
   "source": [
    "dataset = dataset.values[:5000] # taken first 5000 only because otherwise it would take much time\n",
    "print(dataset)\n",
    "dataset.shape"
   ]
  },
  {
   "cell_type": "code",
   "execution_count": 38,
   "metadata": {},
   "outputs": [],
   "source": [
    "X, Y = dataset[:,1:],dataset[:,0]"
   ]
  },
  {
   "cell_type": "code",
   "execution_count": 43,
   "metadata": {},
   "outputs": [
    {
     "data": {
      "image/png": "[encoded data removed]",
      "text/plain": [
       "<Figure size 432x288 with 1 Axes>"
      ]
     },
     "metadata": {
      "needs_background": "light"
     },
     "output_type": "display_data"
    }
   ],
   "source": [
    "img = np.resize(X[1],(28,28)) #just to see the data\n",
    "plt.figure()\n",
    "plt.imshow(img, cmap='gray')\n",
    "plt.show()"
   ]
  },
  {
   "cell_type": "code",
   "execution_count": 40,
   "metadata": {},
   "outputs": [],
   "source": [
    "split = int(X.shape[0]*0.8)\n",
    "X_train , Y_train , X_test, Y_test = X[:split], Y[:split], X[split:], Y[split:]"
   ]
  },
  {
   "cell_type": "code",
   "execution_count": 41,
   "metadata": {},
   "outputs": [
    {
     "name": "stdout",
     "output_type": "stream",
     "text": [
      "Accuracy of KNN to predict number accurately is 0.928\n"
     ]
    }
   ],
   "source": [
    "print(\"Accuracy of KNN to predict number accurately is\",accuracy(X_test, Y_test, X_train, Y_train, k=5))"
   ]
  },
  {
   "cell_type": "code",
   "execution_count": 47,
   "metadata": {},
   "outputs": [
    {
     "data": {
      "image/png": "[encoded data removed]",
      "text/plain": [
       "<Figure size 432x288 with 1 Axes>"
      ]
     },
     "metadata": {
      "needs_background": "light"
     },
     "output_type": "display_data"
    },
    {
     "name": "stdout",
     "output_type": "stream",
     "text": [
      "Label- 8\n",
      "Label Predicted- 8.0\n"
     ]
    },
    {
     "data": {
      "image/png": "[encoded data removed]",
      "text/plain": [
       "<Figure size 432x288 with 1 Axes>"
      ]
     },
     "metadata": {
      "needs_background": "light"
     },
     "output_type": "display_data"
    },
    {
     "name": "stdout",
     "output_type": "stream",
     "text": [
      "Label- 8\n",
      "Label Predicted- 8.0\n"
     ]
    },
    {
     "data": {
      "image/png": "[encoded data removed]",
      "text/plain": [
       "<Figure size 432x288 with 1 Axes>"
      ]
     },
     "metadata": {
      "needs_background": "light"
     },
     "output_type": "display_data"
    },
    {
     "name": "stdout",
     "output_type": "stream",
     "text": [
      "Label- 0\n",
      "Label Predicted- 0.0\n"
     ]
    },
    {
     "data": {
      "image/png": "[encoded data removed]",
      "text/plain": [
       "<Figure size 432x288 with 1 Axes>"
      ]
     },
     "metadata": {
      "needs_background": "light"
     },
     "output_type": "display_data"
    },
    {
     "name": "stdout",
     "output_type": "stream",
     "text": [
      "Label- 5\n",
      "Label Predicted- 5.0\n"
     ]
    },
    {
     "data": {
      "image/png": "[encoded data removed]",
      "text/plain": [
       "<Figure size 432x288 with 1 Axes>"
      ]
     },
     "metadata": {
      "needs_background": "light"
     },
     "output_type": "display_data"
    },
    {
     "name": "stdout",
     "output_type": "stream",
     "text": [
      "Label- 0\n",
      "Label Predicted- 0.0\n"
     ]
    },
    {
     "data": {
      "image/png": "[encoded data removed]",
      "text/plain": [
       "<Figure size 432x288 with 1 Axes>"
      ]
     },
     "metadata": {
      "needs_background": "light"
     },
     "output_type": "display_data"
    },
    {
     "name": "stdout",
     "output_type": "stream",
     "text": [
      "Label- 0\n",
      "Label Predicted- 0.0\n"
     ]
    },
    {
     "data": {
      "image/png": "[encoded data removed]",
      "text/plain": [
       "<Figure size 432x288 with 1 Axes>"
      ]
     },
     "metadata": {
      "needs_background": "light"
     },
     "output_type": "display_data"
    },
    {
     "name": "stdout",
     "output_type": "stream",
     "text": [
      "Label- 3\n",
      "Label Predicted- 3.0\n"
     ]
    },
    {
     "data": {
      "image/png": "[encoded data removed]",
      "text/plain": [
       "<Figure size 432x288 with 1 Axes>"
      ]
     },
     "metadata": {
      "needs_background": "light"
     },
     "output_type": "display_data"
    },
    {
     "name": "stdout",
     "output_type": "stream",
     "text": [
      "Label- 8\n",
      "Label Predicted- 8.0\n"
     ]
    },
    {
     "data": {
      "image/png": "[encoded data removed]",
      "text/plain": [
       "<Figure size 432x288 with 1 Axes>"
      ]
     },
     "metadata": {
      "needs_background": "light"
     },
     "output_type": "display_data"
    },
    {
     "name": "stdout",
     "output_type": "stream",
     "text": [
      "Label- 2\n",
      "Label Predicted- 3.0\n"
     ]
    },
    {
     "data": {
      "image/png": "[encoded data removed]",
      "text/plain": [
       "<Figure size 432x288 with 1 Axes>"
      ]
     },
     "metadata": {
      "needs_background": "light"
     },
     "output_type": "display_data"
    },
    {
     "name": "stdout",
     "output_type": "stream",
     "text": [
      "Label- 1\n",
      "Label Predicted- 1.0\n"
     ]
    },
    {
     "data": {
      "image/png": "[encoded data removed]",
      "text/plain": [
       "<Figure size 432x288 with 1 Axes>"
      ]
     },
     "metadata": {
      "needs_background": "light"
     },
     "output_type": "display_data"
    },
    {
     "name": "stdout",
     "output_type": "stream",
     "text": [
      "Label- 2\n",
      "Label Predicted- 2.0\n"
     ]
    },
    {
     "data": {
      "image/png": "[encoded data removed]",
      "text/plain": [
       "<Figure size 432x288 with 1 Axes>"
      ]
     },
     "metadata": {
      "needs_background": "light"
     },
     "output_type": "display_data"
    },
    {
     "name": "stdout",
     "output_type": "stream",
     "text": [
      "Label- 5\n",
      "Label Predicted- 5.0\n"
     ]
    },
    {
     "data": {
      "image/png": "[encoded data removed]",
      "text/plain": [
       "<Figure size 432x288 with 1 Axes>"
      ]
     },
     "metadata": {
      "needs_background": "light"
     },
     "output_type": "display_data"
    },
    {
     "name": "stdout",
     "output_type": "stream",
     "text": [
      "Label- 6\n",
      "Label Predicted- 6.0\n"
     ]
    },
    {
     "data": {
      "image/png": "[encoded data removed]",
      "text/plain": [
       "<Figure size 432x288 with 1 Axes>"
      ]
     },
     "metadata": {
      "needs_background": "light"
     },
     "output_type": "display_data"
    },
    {
     "name": "stdout",
     "output_type": "stream",
     "text": [
      "Label- 3\n",
      "Label Predicted- 3.0\n"
     ]
    },
    {
     "data": {
      "image/png": "[encoded data removed]",
      "text/plain": [
       "<Figure size 432x288 with 1 Axes>"
      ]
     },
     "metadata": {
      "needs_background": "light"
     },
     "output_type": "display_data"
    },
    {
     "name": "stdout",
     "output_type": "stream",
     "text": [
      "Label- 0\n",
      "Label Predicted- 0.0\n"
     ]
    },
    {
     "data": {
      "image/png": "[encoded data removed]",
      "text/plain": [
       "<Figure size 432x288 with 1 Axes>"
      ]
     },
     "metadata": {
      "needs_background": "light"
     },
     "output_type": "display_data"
    },
    {
     "name": "stdout",
     "output_type": "stream",
     "text": [
      "Label- 6\n",
      "Label Predicted- 6.0\n"
     ]
    },
    {
     "data": {
      "image/png": "[encoded data removed]",
      "text/plain": [
       "<Figure size 432x288 with 1 Axes>"
      ]
     },
     "metadata": {
      "needs_background": "light"
     },
     "output_type": "display_data"
    },
    {
     "name": "stdout",
     "output_type": "stream",
     "text": [
      "Label- 6\n",
      "Label Predicted- 6.0\n"
     ]
    },
    {
     "data": {
      "image/png": "[encoded data removed]",
      "text/plain": [
       "<Figure size 432x288 with 1 Axes>"
      ]
     },
     "metadata": {
      "needs_background": "light"
     },
     "output_type": "display_data"
    },
    {
     "name": "stdout",
     "output_type": "stream",
     "text": [
      "Label- 1\n",
      "Label Predicted- 1.0\n"
     ]
    },
    {
     "data": {
      "image/png": "[encoded data removed]",
      "text/plain": [
       "<Figure size 432x288 with 1 Axes>"
      ]
     },
     "metadata": {
      "needs_background": "light"
     },
     "output_type": "display_data"
    },
    {
     "name": "stdout",
     "output_type": "stream",
     "text": [
      "Label- 3\n",
      "Label Predicted- 3.0\n"
     ]
    },
    {
     "data": {
      "image/png": "[encoded data removed]",
      "text/plain": [
       "<Figure size 432x288 with 1 Axes>"
      ]
     },
     "metadata": {
      "needs_background": "light"
     },
     "output_type": "display_data"
    },
    {
     "name": "stdout",
     "output_type": "stream",
     "text": [
      "Label- 9\n",
      "Label Predicted- 9.0\n"
     ]
    }
   ],
   "source": [
    "test_img = X_test[:20]\n",
    "test_img_y = Y_test[:20]\n",
    "\n",
    "for img,i in zip(test_img,test_img_y):\n",
    "    img1 = np.resize(img,(28,28))\n",
    "    plt.figure()\n",
    "    plt.imshow(img1, cmap='gray')\n",
    "    plt.show()\n",
    "    print(\"Label-\" , i)\n",
    "    print(\"Label Predicted-\", knn(X_train,Y_train, img))"
   ]
  },
  {
   "cell_type": "code",
   "execution_count": null,
   "metadata": {},
   "outputs": [],
   "source": []
  }
 ],
 "metadata": {
  "kernelspec": {
   "display_name": "Python 3",
   "language": "python",
   "name": "python3"
  },
  "language_info": {
   "codemirror_mode": {
    "name": "ipython",
    "version": 3
   },
   "file_extension": ".py",
   "mimetype": "text/x-python",
   "name": "python",
   "nbconvert_exporter": "python",
   "pygments_lexer": "ipython3",
   "version": "3.7.0"
  }
 },
 "nbformat": 4,
 "nbformat_minor": 2
}
